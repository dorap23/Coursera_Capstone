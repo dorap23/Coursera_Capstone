{
    "nbformat_minor": 1, 
    "cells": [
        {
            "source": "# Data Science Capstone Project - The Battle of the Neighborhoods (Week 1)\n", 
            "cell_type": "markdown", 
            "metadata": {
                "collapsed": true
            }
        }, 
        {
            "source": "## Table of contents\n* [Introduction/Business Problem](#introduction)\n* [Data](#data)", 
            "cell_type": "markdown", 
            "metadata": {}
        }, 
        {
            "source": "## Introduction/Business Problem <a name=\"introduction\"></a>", 
            "cell_type": "markdown", 
            "metadata": {}
        }, 
        {
            "source": "The goal of this project is to find the most suitable neighborhood in **Athens, Greece** to open a new **nightclub** venue. The target audience are stakeholders who own several bars and clubs across Europe and are looking to expand their business to other countries. \n\nThe main criteria for choosing the appropriate neighborhood will be to:\n-  be close to city center, so better accessibility is achieved \n-  not have many bars/pubs or other venues related to nightlife\n-  not have nighclubs in specific\n\nThe report will present the advantages of each neighborhood to facilitate the decision making for the stakeholders.", 
            "cell_type": "markdown", 
            "metadata": {}
        }, 
        {
            "source": "## Data <a name=\"data\"></a>", 
            "cell_type": "markdown", 
            "metadata": {}
        }, 
        {
            "source": "Data will be based on the considerations derived from the aforementioned business problem. The factors that will affect the decision making are:  \n-  number of existing nightlife venues per neighborhood, including all types of venues such as nighclubs, coctail bars etc\n-  number of and distance to nightclubs in the neighborhood, if any\n-  distance of the areas from city center\n\n\nThe data sources and tools that will be used to retreive the required data include:\n-  geocoding and Google maps API, to retreive the center of Athens and the centers of each neighborhood with approximate addresses \n-  Fourquare API, to retreive the number, type and location of nighlife venues \n", 
            "cell_type": "markdown", 
            "metadata": {}
        }, 
        {
            "execution_count": null, 
            "cell_type": "code", 
            "metadata": {}, 
            "outputs": [], 
            "source": ""
        }
    ], 
    "metadata": {
        "kernelspec": {
            "display_name": "Python 3.5", 
            "name": "python3", 
            "language": "python"
        }, 
        "language_info": {
            "mimetype": "text/x-python", 
            "nbconvert_exporter": "python", 
            "version": "3.5.5", 
            "name": "python", 
            "file_extension": ".py", 
            "pygments_lexer": "ipython3", 
            "codemirror_mode": {
                "version": 3, 
                "name": "ipython"
            }
        }
    }, 
    "nbformat": 4
}